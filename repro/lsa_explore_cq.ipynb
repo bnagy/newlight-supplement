{
 "cells": [
  {
   "cell_type": "markdown",
   "metadata": {},
   "source": [
    "# Outlier Detection using character 2-, 3- and 4-grams\n",
    "\n",
    "## Rationale\n",
    "\n",
    "In this notebook we describe an experiment that was conducted for the pre-revision paper, but which we have since reanalyzed and decided to be potentially problematic. This negative (or perhaps 'not positive') result is presented for two reasons. In the first place, as a question of methodology, it might be useful to other practitioners who might be considering this kind of approach, and secondly, by presenting the problematic study it might be possible to improve or re-implement it as future work.\n",
    "\n",
    "## Method\n",
    "\n",
    "The design is as follows: we take our corpus of classical Latin poetry, preprocessed and broken into chunks as discussed in the UMAP notebook. We use the complete corpus to train a TF-IDF vectorizer, which should give us an 'overall' feeling for n-gram term frequencies across the corpus. We then reduce the dimensionality to 180 (based on the 'alpha' stat, discussed below) from ~34k via Truncated Singular Value Decomposition (SVD). Finally, we projected a large sample of random chunks from Silius into this space, and calculated a bootstrap p-value for the distance of the Additamentum from that centroid.\n",
    "\n",
    "## Discussion\n",
    "\n",
    "Analysing distance from a centroid is generally troublesome in high dimensional space. Since there are so many dimensions in which a vector can diverge, what tends to happen is that no points actually lie \"close\" to the centroid, instead they are distributed near the surface of some hypersphere (sort of like an eggshell). Another problem is that the hyperspheres are not always spheres, they might end up being vague spheroids (eggs, footballs, hamburgers etc). This makes 'pure' distance measurements a little misleading because the clusters are wider along some axes than along others. Mostly we deal with this by using simulation instead of by assuming a distribution (we empirically measure how many random points are further from the centroid rather than making calculations assuming a 'sphere').\n",
    "\n",
    "In this case, it appears that the TF-IDF feature space is not \"stable\" under LSA. This can be seen by considering three different corpora which are all _almost_ the same, but produce contradictory results.\n",
    "\n",
    "## What This Notebook Shows\n",
    "\n",
    "The general conclusion remains unchanged. The lexico-grammatical style of the Additamentum is closer to the Aeneid and Vergilian style than is typical Silian verse, although it is detectably an outlier from both the _Punica_ and the _Aeneid_. There is some doubt as to whether the specific method that was used to produce a $P$-value is reliable, and so, out of an abundance of caution, we have not made a statistical claim. It does not appear that centroid-based measures are stable enough. The dimensionality of the original TF-IDF space is probably too high.\n"
   ]
  },
  {
   "cell_type": "code",
   "execution_count": 1,
   "metadata": {
    "execution": {
     "iopub.execute_input": "2021-07-04T01:42:42.221447Z",
     "iopub.status.busy": "2021-07-04T01:42:42.220061Z",
     "iopub.status.idle": "2021-07-04T01:42:46.311364Z",
     "shell.execute_reply": "2021-07-04T01:42:46.310402Z",
     "shell.execute_reply.started": "2021-07-04T01:42:42.221217Z"
    }
   },
   "outputs": [],
   "source": [
    "from bs4 import BeautifulSoup\n",
    "from mqdq import ngrams\n",
    "from mqdq import rhyme\n",
    "from mqdq import hexameter_corpus\n",
    "from mqdq import utils\n",
    "from mqdq import line_analyzer as la\n",
    "\n",
    "import numpy as np\n",
    "import scipy as sp\n",
    "import pandas as pd\n",
    "import math\n",
    "import string\n",
    "import pickle\n",
    "from collections import Counter\n",
    "\n",
    "from sklearn.utils.extmath import density\n",
    "from sklearn.pipeline import Pipeline\n",
    "from sklearn.pipeline import make_pipeline\n",
    "from sklearn.decomposition import TruncatedSVD\n",
    "from sklearn.preprocessing import Normalizer\n",
    "from sklearn.metrics import pairwise_distances\n",
    "from sklearn.svm import OneClassSVM\n",
    "from sklearn.feature_extraction.text import TfidfVectorizer\n",
    "from sklearn.neighbors import KNeighborsClassifier\n",
    "from sklearn.model_selection import cross_val_score, StratifiedShuffleSplit\n",
    "from sklearn.linear_model import SGDClassifier, Perceptron, PassiveAggressiveClassifier\n",
    "from sklearn.neighbors import KNeighborsClassifier"
   ]
  },
  {
   "cell_type": "markdown",
   "metadata": {},
   "source": [
    "# The Corpora\n",
    "\n",
    "There are three corpora which are used to build the TF-IDF space. \n",
    "Each 'document' is one 81-line chunk of poetry. The 'terms' are 2, 3 and 4-grams. \n",
    "The corpus is always preprocessed.\n",
    "\n",
    "## Phonetic Transformation\n",
    "\n",
    "All texts are phonetically transformed, which rationalises consonants and \n",
    "vowels, differentiates consonantal u/v and i/j, applies elision and prodelision.\n",
    "\n",
    "## Named Entity Removal\n",
    "\n",
    "To avoid overfitting, proper nouns are replaced with one token '8' which does not otherwise appear. This allows the models to train on eg the number and line-position of proper nouns without overfitting on telltale names. This is particularly important for this project because the names 'Dido', 'Anna', Aeneas etc would otherwise artificially attract the _Additamentum_ towards the Aeneid.\n",
    "\n",
    "There are three test corpora, which are only used to establish the TF-IDF space (the terms themselves, ie the column space, and the inverse document frequencies)\n",
    "\n",
    "## Corpora\n",
    "\n",
    "- `corpus_A` has the Additamentum broken out into a single chunk. The chunk that 'surrounds' the Addit. is made up of some lines before and then some lines immediately following, so that all chunks are still 81 lines.\n",
    "- `corpus_B` segments the _Punica_ normally, so the Addit. is broken over two chunks.\n",
    "- `corpus_C` has the Addit. removed from the Punica (and thus the corpus) entirely.\n",
    "\n",
    "In general, the correct corpus to use seems to be A. If we remove the Addit. before we construct our TF-IDF weights (`corpus_C`) then we would expect new terms in the Addit. to make it seem more unusual. If we split the Addit over two chunks (`corpus_B`) then the document frequency for n-grams native to the Addit. would be doubled, which would again distort the picture. However the change in the overall corpus is so small that _in theory_ it should make very little difference which of the three corpora we choose."
   ]
  },
  {
   "cell_type": "code",
   "execution_count": 2,
   "metadata": {
    "execution": {
     "iopub.execute_input": "2021-07-04T01:42:46.313918Z",
     "iopub.status.busy": "2021-07-04T01:42:46.313254Z",
     "iopub.status.idle": "2021-07-04T01:45:55.744939Z",
     "shell.execute_reply": "2021-07-04T01:45:55.744127Z",
     "shell.execute_reply.started": "2021-07-04T01:42:46.313848Z"
    }
   },
   "outputs": [],
   "source": [
    "corpus_A = ngrams.geezit_corpus(chunksz=81, drop_propers=True, drop_addit=True)\n",
    "corpus_B = ngrams.geezit_corpus(chunksz=81, drop_propers=True, drop_addit=False)\n",
    "corpus_C = corpus_A.query('Author != \"Unknown\"')"
   ]
  },
  {
   "cell_type": "markdown",
   "metadata": {},
   "source": [
    "Here we can see how the differences between `corpus_A` and `corpus_B` line up - since exactly 81 lines\n",
    "are removed, the differences sync up again by the chunk starting at \n",
    "8.258"
   ]
  },
  {
   "cell_type": "code",
   "execution_count": 3,
   "metadata": {
    "execution": {
     "iopub.execute_input": "2021-07-04T01:45:55.746968Z",
     "iopub.status.busy": "2021-07-04T01:45:55.746455Z",
     "iopub.status.idle": "2021-07-04T01:45:55.764279Z",
     "shell.execute_reply": "2021-07-04T01:45:55.763096Z",
     "shell.execute_reply.started": "2021-07-04T01:45:55.746908Z"
    }
   },
   "outputs": [
    {
     "data": {
      "text/html": [
       "<div>\n",
       "<style scoped>\n",
       "    .dataframe tbody tr th:only-of-type {\n",
       "        vertical-align: middle;\n",
       "    }\n",
       "\n",
       "    .dataframe tbody tr th {\n",
       "        vertical-align: top;\n",
       "    }\n",
       "\n",
       "    .dataframe thead th {\n",
       "        text-align: right;\n",
       "    }\n",
       "</style>\n",
       "<table border=\"1\" class=\"dataframe\">\n",
       "  <thead>\n",
       "    <tr style=\"text-align: right;\">\n",
       "      <th></th>\n",
       "      <th>Chunk</th>\n",
       "      <th>Author</th>\n",
       "      <th>Work</th>\n",
       "      <th>Bookref</th>\n",
       "    </tr>\n",
       "  </thead>\n",
       "  <tbody>\n",
       "    <tr>\n",
       "      <th>333</th>\n",
       "      <td>ad magikas etiam fallaks at_kwimproba gentis\\n...</td>\n",
       "      <td>Silius</td>\n",
       "      <td>Punica</td>\n",
       "      <td>8:97</td>\n",
       "    </tr>\n",
       "    <tr>\n",
       "      <th>334</th>\n",
       "      <td>i_dut turbarum sator at_kwakkendere sollers\\ni...</td>\n",
       "      <td>Silius</td>\n",
       "      <td>Punica</td>\n",
       "      <td>8:258</td>\n",
       "    </tr>\n",
       "    <tr>\n",
       "      <th>335</th>\n",
       "      <td>tantum non striktis mukronibus ulla retardet\\n...</td>\n",
       "      <td>Silius</td>\n",
       "      <td>Punica</td>\n",
       "      <td>8:339</td>\n",
       "    </tr>\n",
       "    <tr>\n",
       "      <th>336</th>\n",
       "      <td>ibant et laeti pars 8 woke kanebant\\nauktorem ...</td>\n",
       "      <td>Silius</td>\n",
       "      <td>Punica</td>\n",
       "      <td>8:420</td>\n",
       "    </tr>\n",
       "  </tbody>\n",
       "</table>\n",
       "</div>"
      ],
      "text/plain": [
       "                                                 Chunk  Author    Work Bookref\n",
       "333  ad magikas etiam fallaks at_kwimproba gentis\\n...  Silius  Punica    8:97\n",
       "334  i_dut turbarum sator at_kwakkendere sollers\\ni...  Silius  Punica   8:258\n",
       "335  tantum non striktis mukronibus ulla retardet\\n...  Silius  Punica   8:339\n",
       "336  ibant et laeti pars 8 woke kanebant\\nauktorem ...  Silius  Punica   8:420"
      ]
     },
     "execution_count": 3,
     "metadata": {},
     "output_type": "execute_result"
    }
   ],
   "source": [
    "corpus_A.loc[333:336]"
   ]
  },
  {
   "cell_type": "code",
   "execution_count": 4,
   "metadata": {
    "execution": {
     "iopub.execute_input": "2021-07-04T01:45:55.766345Z",
     "iopub.status.busy": "2021-07-04T01:45:55.765986Z",
     "iopub.status.idle": "2021-07-04T01:45:55.783220Z",
     "shell.execute_reply": "2021-07-04T01:45:55.780489Z",
     "shell.execute_reply.started": "2021-07-04T01:45:55.766280Z"
    }
   },
   "outputs": [
    {
     "data": {
      "text/html": [
       "<div>\n",
       "<style scoped>\n",
       "    .dataframe tbody tr th:only-of-type {\n",
       "        vertical-align: middle;\n",
       "    }\n",
       "\n",
       "    .dataframe tbody tr th {\n",
       "        vertical-align: top;\n",
       "    }\n",
       "\n",
       "    .dataframe thead th {\n",
       "        text-align: right;\n",
       "    }\n",
       "</style>\n",
       "<table border=\"1\" class=\"dataframe\">\n",
       "  <thead>\n",
       "    <tr style=\"text-align: right;\">\n",
       "      <th></th>\n",
       "      <th>Chunk</th>\n",
       "      <th>Author</th>\n",
       "      <th>Work</th>\n",
       "      <th>Bookref</th>\n",
       "    </tr>\n",
       "  </thead>\n",
       "  <tbody>\n",
       "    <tr>\n",
       "      <th>333</th>\n",
       "      <td>ad magikas etiam fallaks at_kwimproba gentis\\n...</td>\n",
       "      <td>Silius</td>\n",
       "      <td>Punica</td>\n",
       "      <td>8:97</td>\n",
       "    </tr>\n",
       "    <tr>\n",
       "      <th>334</th>\n",
       "      <td>praeterea ne falsa putes haek fingere 8\\nhaud ...</td>\n",
       "      <td>Silius</td>\n",
       "      <td>Punica</td>\n",
       "      <td>8:178</td>\n",
       "    </tr>\n",
       "    <tr>\n",
       "      <th>335</th>\n",
       "      <td>i_dut turbarum sator at_kwakkendere sollers\\ni...</td>\n",
       "      <td>Silius</td>\n",
       "      <td>Punica</td>\n",
       "      <td>8:259</td>\n",
       "    </tr>\n",
       "    <tr>\n",
       "      <th>336</th>\n",
       "      <td>tantum non striktis mukronibus ulla retardet\\n...</td>\n",
       "      <td>Silius</td>\n",
       "      <td>Punica</td>\n",
       "      <td>8:340</td>\n",
       "    </tr>\n",
       "  </tbody>\n",
       "</table>\n",
       "</div>"
      ],
      "text/plain": [
       "                                                 Chunk  Author    Work Bookref\n",
       "333  ad magikas etiam fallaks at_kwimproba gentis\\n...  Silius  Punica    8:97\n",
       "334  praeterea ne falsa putes haek fingere 8\\nhaud ...  Silius  Punica   8:178\n",
       "335  i_dut turbarum sator at_kwakkendere sollers\\ni...  Silius  Punica   8:259\n",
       "336  tantum non striktis mukronibus ulla retardet\\n...  Silius  Punica   8:340"
      ]
     },
     "execution_count": 4,
     "metadata": {},
     "output_type": "execute_result"
    }
   ],
   "source": [
    "corpus_B.loc[333:336]"
   ]
  },
  {
   "cell_type": "markdown",
   "metadata": {},
   "source": [
    "# Sampled Distributions\n",
    "\n",
    "For the calculation of centroids etc it is better to have a large sampled distribution, so we take $180^2$ contiguous chunks from the Punica (all lines, so parts of the Addit will appear in some sample chunks)."
   ]
  },
  {
   "cell_type": "code",
   "execution_count": 5,
   "metadata": {
    "execution": {
     "iopub.execute_input": "2021-07-04T01:45:55.785261Z",
     "iopub.status.busy": "2021-07-04T01:45:55.784800Z",
     "iopub.status.idle": "2021-07-04T01:46:26.231053Z",
     "shell.execute_reply": "2021-07-04T01:46:26.230427Z",
     "shell.execute_reply.started": "2021-07-04T01:45:55.785102Z"
    }
   },
   "outputs": [],
   "source": [
    "# The full Punica, with named entities removed. This is what will be used to create\n",
    "# the sample distribution. We DO include the Additamentum here because that gives us\n",
    "# a more conservative measure (the result is much stronger when the Additamentum is \n",
    "# not included in the comparison data, as one might expect).\n",
    "\n",
    "with open('SIL-puni.xml') as fh:\n",
    "    soup = BeautifulSoup(fh,\"xml\")\n",
    "ll = utils.clean(soup('line'))\n",
    "ll_np = ngrams._remove_propers(ll)\n",
    "\n",
    "# And the same for the Aeneid\n",
    "\n",
    "with open('VERG-aene.xml') as fh:\n",
    "    soup = BeautifulSoup(fh,\"xml\")\n",
    "aen_ll = utils.clean(soup('line'))\n",
    "aen_ll_np = ngrams._remove_propers(aen_ll)"
   ]
  },
  {
   "cell_type": "code",
   "execution_count": 6,
   "metadata": {
    "execution": {
     "iopub.execute_input": "2021-07-04T01:46:26.232526Z",
     "iopub.status.busy": "2021-07-04T01:46:26.232250Z",
     "iopub.status.idle": "2021-07-04T01:46:39.296864Z",
     "shell.execute_reply": "2021-07-04T01:46:39.295585Z",
     "shell.execute_reply.started": "2021-07-04T01:46:26.232487Z"
    }
   },
   "outputs": [
    {
     "data": {
      "text/plain": [
       "['ordior arma kwibus kaelo se gloria tollit\\n',\n",
       " 'aeneadum patiturkwe feroks oenotria jura\\n',\n",
       " 'kartago da musa dekus memorare laborum\\n',\n",
       " 'anti_kwesperiae kwantos_kwad bella krearit\\n',\n",
       " 'et kwot roma wiros sakri kum perfida pakti\\n']"
      ]
     },
     "execution_count": 6,
     "metadata": {},
     "output_type": "execute_result"
    }
   ],
   "source": [
    "# Comparison - text with and without named entity removal\n",
    "# As can be seen, there are some 'false positives', eg decus\n",
    "# and gloria are treated as proper nouns because they are\n",
    "# sometimes anthropomorphised.\n",
    "\n",
    "ll_p = ngrams._just_stringify(ll, type='phon')\n",
    "ll_p[:5]"
   ]
  },
  {
   "cell_type": "code",
   "execution_count": 7,
   "metadata": {
    "execution": {
     "iopub.execute_input": "2021-07-04T01:46:39.298598Z",
     "iopub.status.busy": "2021-07-04T01:46:39.298257Z",
     "iopub.status.idle": "2021-07-04T01:46:39.322566Z",
     "shell.execute_reply": "2021-07-04T01:46:39.318652Z",
     "shell.execute_reply.started": "2021-07-04T01:46:39.298549Z"
    }
   },
   "outputs": [
    {
     "data": {
      "text/plain": [
       "['ordior arma kwibus kaelo se 8 tollit\\n',\n",
       " '8 patiturkwe feroks 8 jura\\n',\n",
       " '8 da 8 8 memorare laborum\\n',\n",
       " 'anti_kwesperiae kwantos_kwad bella krearit\\n',\n",
       " 'et kwot 8 wiros sakri kum perfida pakti\\n']"
      ]
     },
     "execution_count": 7,
     "metadata": {},
     "output_type": "execute_result"
    }
   ],
   "source": [
    "ll_np[:5]"
   ]
  },
  {
   "cell_type": "code",
   "execution_count": 8,
   "metadata": {
    "execution": {
     "iopub.execute_input": "2021-07-04T01:46:39.325638Z",
     "iopub.status.busy": "2021-07-04T01:46:39.325401Z",
     "iopub.status.idle": "2021-07-04T01:46:39.340312Z",
     "shell.execute_reply": "2021-07-04T01:46:39.339274Z",
     "shell.execute_reply.started": "2021-07-04T01:46:39.325598Z"
    }
   },
   "outputs": [],
   "source": [
    "# Isolate the lines of the Additamentum, which we will need for various things\n",
    "\n",
    "addit_lines = ll_np[5230:5311]\n",
    "ad_chunk = ''.join(addit_lines)\n",
    "puni_na = ll_np[:5230] + ll_np[5311:]"
   ]
  },
  {
   "cell_type": "code",
   "execution_count": 9,
   "metadata": {
    "execution": {
     "iopub.execute_input": "2021-07-04T01:46:39.342856Z",
     "iopub.status.busy": "2021-07-04T01:46:39.342371Z",
     "iopub.status.idle": "2021-07-04T01:46:39.361343Z",
     "shell.execute_reply": "2021-07-04T01:46:39.356615Z",
     "shell.execute_reply.started": "2021-07-04T01:46:39.342800Z"
    }
   },
   "outputs": [],
   "source": [
    "def sample_chunks(ll, n, chunksz, rng):\n",
    "    '''\n",
    "    Take a contiguous sample of n sets, each with length chunksz from the set of lines ll.\n",
    "    '''\n",
    "    \n",
    "    sample = []\n",
    "    for x in range(n):\n",
    "        chunk_head = rng.randint(0,len(ll)-chunksz)\n",
    "        sample.append(''.join(ll[chunk_head:chunk_head+chunksz]))\n",
    "    return sample"
   ]
  },
  {
   "cell_type": "code",
   "execution_count": 10,
   "metadata": {
    "execution": {
     "iopub.execute_input": "2021-07-04T01:46:39.362709Z",
     "iopub.status.busy": "2021-07-04T01:46:39.362505Z",
     "iopub.status.idle": "2021-07-04T01:46:40.740374Z",
     "shell.execute_reply": "2021-07-04T01:46:40.739731Z",
     "shell.execute_reply.started": "2021-07-04T01:46:39.362676Z"
    }
   },
   "outputs": [],
   "source": [
    "# Sampled distribution, used to calculate centroid etc. Given that we will reduce to 180\n",
    "# dimensions (discussed next) we take 180^2 samples. This is not always important, but\n",
    "# in some cases it is. See https://scikit-learn.org/stable/modules/generated/sklearn.covariance.EllipticEnvelope.html\n",
    "\n",
    "DIST_ADDIT_NOPROPS = sample_chunks(ll_np, 180*180, 81, np.random.RandomState(seed=1234))\n",
    "DIST_PUNI_NA_10K = sample_chunks(puni_na, 10_000, 81, np.random.RandomState(seed=1234))\n",
    "DIST_AEN = sample_chunks(aen_ll_np, 180*180, 81, np.random.RandomState(seed=1234))"
   ]
  },
  {
   "cell_type": "markdown",
   "metadata": {},
   "source": [
    "# Why 180 dimensions for the LSA?\n",
    "\n",
    "Here we will examine the spectrum of the data. We have 793 rows and around 34k columns once we do the TF-IDF transformation, which is massively overspecified. Standard approach is to reduce that feature space, and the typical 'Latent Semantic Analysis' approach does that dimension reduction using Truncated Singular Value Decomposition. Essentially we get the eigenvectors from the data matrix in descending order of eigenvalue and use the first _n_ of them, but how many is reasonable? The scikit documentation says 'For LSA, a value of 100 is recommended', but a more scientific approach is to graph the 'alpha' stat $\\alpha = \\frac{\\sigma_1^2}{\\sum_i{\\sigma_i^2}}$ for each singular value $\\sigma_n$. Intuitively, this $\\alpha$ describes 'the eigenvectors where most of the variation happens' for some definition of most, and with the competing constraint that we would like to reduce the dimension as much as we can."
   ]
  },
  {
   "cell_type": "code",
   "execution_count": 11,
   "metadata": {
    "execution": {
     "iopub.execute_input": "2021-07-04T01:46:40.748534Z",
     "iopub.status.busy": "2021-07-04T01:46:40.747795Z",
     "iopub.status.idle": "2021-07-04T01:47:36.953898Z",
     "shell.execute_reply": "2021-07-04T01:47:36.952966Z",
     "shell.execute_reply.started": "2021-07-04T01:46:40.748217Z"
    }
   },
   "outputs": [
    {
     "data": {
      "text/plain": [
       "Pipeline(memory=None,\n",
       "         steps=[('tfidfvectorizer',\n",
       "                 TfidfVectorizer(analyzer='char', binary=False,\n",
       "                                 decode_error='strict',\n",
       "                                 dtype=<class 'numpy.float64'>,\n",
       "                                 encoding='utf-8', input='content',\n",
       "                                 lowercase=True, max_df=1.0, max_features=None,\n",
       "                                 min_df=1, ngram_range=(2, 4), norm='l2',\n",
       "                                 preprocessor=None, smooth_idf=True,\n",
       "                                 stop_words=None, strip_accents=None,\n",
       "                                 sublinear_tf=True,\n",
       "                                 token_pattern='(?u)\\\\b\\\\w\\\\w+\\\\b',\n",
       "                                 tokenizer=None, use_idf=True,\n",
       "                                 vocabulary=None)),\n",
       "                ('truncatedsvd',\n",
       "                 TruncatedSVD(algorithm='randomized', n_components=1000,\n",
       "                              n_iter=5, random_state=None, tol=0.0))],\n",
       "         verbose=False)"
      ]
     },
     "execution_count": 11,
     "metadata": {},
     "output_type": "execute_result"
    }
   ],
   "source": [
    "p = make_pipeline(\n",
    "    TfidfVectorizer(\n",
    "        use_idf=True,\n",
    "        sublinear_tf=True,\n",
    "        norm='l2', \n",
    "        analyzer='char',\n",
    "        ngram_range=(2,4),\n",
    "    ),\n",
    "    TruncatedSVD(1000),\n",
    ")\n",
    "    \n",
    "p.fit(corpus_A.Chunk)"
   ]
  },
  {
   "cell_type": "code",
   "execution_count": 12,
   "metadata": {
    "execution": {
     "iopub.execute_input": "2021-07-04T01:47:36.957185Z",
     "iopub.status.busy": "2021-07-04T01:47:36.955477Z",
     "iopub.status.idle": "2021-07-04T01:47:36.966643Z",
     "shell.execute_reply": "2021-07-04T01:47:36.965908Z",
     "shell.execute_reply.started": "2021-07-04T01:47:36.957106Z"
    }
   },
   "outputs": [
    {
     "name": "stdout",
     "output_type": "stream",
     "text": [
      "793 singular values.\n",
      "Sum is 652.57. First Eigenvalue is 16.12.\n"
     ]
    }
   ],
   "source": [
    "# What does the spectrum look like (roughly)?\n",
    "\n",
    "param_dir = p.steps[1][1]\n",
    "svs = param_dir.singular_values_\n",
    "print(\"%d singular values.\" % len(svs))\n",
    "print(\"Sum is %.2f. First Eigenvalue is %.2f.\" % (sum(svs), svs[0]))"
   ]
  },
  {
   "cell_type": "code",
   "execution_count": 13,
   "metadata": {
    "execution": {
     "iopub.execute_input": "2021-07-04T01:47:36.968679Z",
     "iopub.status.busy": "2021-07-04T01:47:36.967942Z",
     "iopub.status.idle": "2021-07-04T01:47:36.988323Z",
     "shell.execute_reply": "2021-07-04T01:47:36.987402Z",
     "shell.execute_reply.started": "2021-07-04T01:47:36.968610Z"
    }
   },
   "outputs": [],
   "source": [
    "# Calculate alpha for each n in 'the first n singular values'\n",
    "\n",
    "alpha = []\n",
    "for i,x in enumerate(svs):\n",
    "    # The svs in scikit are already squared.\n",
    "    alpha.append(svs[0]/svs[:i+1].sum())\n",
    "    \n",
    "evs = p.steps[1][1].explained_variance_ratio_\n",
    "ev = []\n",
    "for i,x in enumerate(evs):\n",
    "    ev.append(evs[:i+1].sum())"
   ]
  },
  {
   "cell_type": "code",
   "execution_count": 14,
   "metadata": {
    "execution": {
     "iopub.execute_input": "2021-07-04T01:47:36.993705Z",
     "iopub.status.busy": "2021-07-04T01:47:36.991450Z",
     "iopub.status.idle": "2021-07-04T01:47:37.001519Z",
     "shell.execute_reply": "2021-07-04T01:47:37.000766Z",
     "shell.execute_reply.started": "2021-07-04T01:47:36.993629Z"
    }
   },
   "outputs": [],
   "source": [
    "# I don't do much matplot, but this is just a quick exploration\n",
    "\n",
    "%matplotlib inline\n",
    "import matplotlib.pyplot as plt"
   ]
  },
  {
   "cell_type": "markdown",
   "metadata": {},
   "source": [
    "# Discussion\n",
    "\n",
    "Any value from 100 to 200 is probably reasonable based on the 'elbow' of the alpha curve. Since the explained variance climbs extremely slowly, we have preferred higher values. In a separate experiment we found that p-values for the one-class outlier experiment tended to stabilize at about 180 dimensions, so that is the number we have chosen for classification tests, but the number really isn't that important overall."
   ]
  },
  {
   "cell_type": "code",
   "execution_count": 15,
   "metadata": {
    "execution": {
     "iopub.execute_input": "2021-07-04T01:47:37.005095Z",
     "iopub.status.busy": "2021-07-04T01:47:37.002855Z",
     "iopub.status.idle": "2021-07-04T01:47:37.542981Z",
     "shell.execute_reply": "2021-07-04T01:47:37.542220Z",
     "shell.execute_reply.started": "2021-07-04T01:47:37.005022Z"
    }
   },
   "outputs": [
    {
     "data": {
      "image/png": "[encoded data removed]",
      "text/plain": [
       "<Figure size 1008x864 with 1 Axes>"
      ]
     },
     "metadata": {
      "needs_background": "light"
     },
     "output_type": "display_data"
    }
   ],
   "source": [
    "plt.figure(figsize=(7,6),dpi=144)\n",
    "plt.plot(np.arange(0,len(svs)),alpha,label='alpha')\n",
    "plt.plot(np.arange(0, len(evs)),ev,label=\"explained variance\")\n",
    "plt.legend(bbox_to_anchor=[0.9,0.55])\n",
    "plt.show()"
   ]
  },
  {
   "cell_type": "markdown",
   "metadata": {},
   "source": [
    "# Our Initial Experiment\n",
    "\n",
    "Based on the spectrum analysis, we defined the experiment as follows:\n",
    "- Create a TF-IDF feature space based on the full corpus (since there is no reason to suppose the _Additamentum_ is by Silius)\n",
    "- Create a sampled distribution of continguous 81-line chunks from Silius\n",
    "- Transform the sampled distribution with TF-IDF, and perform SVD at 180 dimensions\n",
    "- Project the transformed _Additamentum_ into the same space\n",
    "- Calculate an empirical p-value by determining how many of the sampled chunks are further from the geometric median of the Silian points"
   ]
  },
  {
   "cell_type": "markdown",
   "metadata": {},
   "source": [
    "# Utility Functions"
   ]
  },
  {
   "cell_type": "code",
   "execution_count": 16,
   "metadata": {
    "execution": {
     "iopub.execute_input": "2021-07-04T01:47:37.544721Z",
     "iopub.status.busy": "2021-07-04T01:47:37.544051Z",
     "iopub.status.idle": "2021-07-04T01:47:37.564379Z",
     "shell.execute_reply": "2021-07-04T01:47:37.563591Z",
     "shell.execute_reply.started": "2021-07-04T01:47:37.544495Z"
    }
   },
   "outputs": [],
   "source": [
    "# The geometric median is the L1 equivalent of the Euclidean distance. Just as the\n",
    "# median is more robust in the presence of outliers, so the geometric median is\n",
    "# more robust than the L2 centroid.\n",
    "\n",
    "# Unfortunately, it is much more annoying to calculate. The idea is to find a point\n",
    "# that minimizes the straight line distance to every point we're considering. The \n",
    "# algorithm, boiled down, picks a point and then moves it around until the distance\n",
    "# stops getting smaller. \n",
    "\n",
    "from scipy.spatial.distance import cdist, euclidean\n",
    "\n",
    "def geometric_median(X, eps=1e-5):\n",
    "    \"\"\"\n",
    "    https://stackoverflow.com/questions/30299267/geometric-median-of-multidimensional-points\n",
    "    [QUOTING THE POST AUTHOR]\n",
    "    I implemented Yehuda Vardi and Cun-Hui Zhang's algorithm for the geometric median,\n",
    "    described in their paper \"The multivariate L1-median and associated data depth\".\n",
    "    Everything is vectorized in numpy, so should be very fast. I didn't implement \n",
    "    weights - only unweighted points.\n",
    "    \"\"\"\n",
    "    \n",
    "    y = np.mean(X, 0)\n",
    "\n",
    "    while True:\n",
    "        D = cdist(X, [y])\n",
    "        nonzeros = (D != 0)[:, 0]\n",
    "\n",
    "        Dinv = 1 / D[nonzeros]\n",
    "        Dinvs = np.sum(Dinv)\n",
    "        W = Dinv / Dinvs\n",
    "        T = np.sum(W * X[nonzeros], 0)\n",
    "\n",
    "        num_zeros = len(X) - np.sum(nonzeros)\n",
    "        if num_zeros == 0:\n",
    "            y1 = T\n",
    "        elif num_zeros == len(X):\n",
    "            return y\n",
    "        else:\n",
    "            R = (T - y) * Dinvs\n",
    "            r = np.linalg.norm(R)\n",
    "            rinv = 0 if r == 0 else num_zeros/r\n",
    "            y1 = max(0, 1-rinv)*T + min(1, rinv)*y\n",
    "\n",
    "        if euclidean(y, y1) < eps:\n",
    "            return y1\n",
    "\n",
    "        y = y1"
   ]
  },
  {
   "cell_type": "code",
   "execution_count": 17,
   "metadata": {
    "execution": {
     "iopub.execute_input": "2021-07-04T01:47:37.568010Z",
     "iopub.status.busy": "2021-07-04T01:47:37.567001Z",
     "iopub.status.idle": "2021-07-04T01:55:59.157591Z",
     "shell.execute_reply": "2021-07-04T01:55:59.154969Z",
     "shell.execute_reply.started": "2021-07-04T01:47:37.567931Z"
    }
   },
   "outputs": [
    {
     "name": "stdout",
     "output_type": "stream",
     "text": [
      "Percentage of PUNICA points FURTHER from Punica (than Addit): 1.05\n",
      "\n"
     ]
    }
   ],
   "source": [
    "tfidf = TfidfVectorizer(\n",
    "    use_idf=True,\n",
    "    sublinear_tf=True,\n",
    "    norm='l2', \n",
    "    analyzer='char',\n",
    "    ngram_range=(2,4),\n",
    ")\n",
    "lsa = make_pipeline(\n",
    "    TruncatedSVD(180, n_iter=10, random_state=42),\n",
    "    #Normalizer(copy=False),\n",
    ")\n",
    "\n",
    "\n",
    "# fit the TF-IDF weights etc to this corpus.\n",
    "corpus_vecs = tfidf.fit_transform(corpus_A.Chunk)\n",
    "# calculate the eigenvectors based only on the actual corpus\n",
    "lsa.fit(corpus_vecs)\n",
    "puni_dist_tfidf = tfidf.transform(DIST_ADDIT_NOPROPS)\n",
    "dist_vecs_puni = lsa.transform(puni_dist_tfidf)\n",
    "# to calculate the centroid, take the geometric median in full dimension, then transform\n",
    "cent_puni = geometric_median(np.asarray(puni_dist_tfidf.todense())).reshape(1,-1)\n",
    "cent_puni_svd = lsa.transform(cent_puni)\n",
    "\n",
    "ad_vec = lsa.transform(tfidf.transform([ad_chunk]))\n",
    "ad_dist_puni = pairwise_distances(cent_puni_svd, ad_vec, metric='l2')[0][0]\n",
    "\n",
    "puni_dists = [pairwise_distances(cent_puni_svd, x.reshape(1,-1), metric='l2')[0][0] for x in dist_vecs_puni]\n",
    "print(\"Percentage of PUNICA points FURTHER from Punica (than Addit): %2.2f\" % (len([x for x in puni_dists if x > ad_dist_puni])/len(puni_dists)*100))\n",
    "print(\"\")"
   ]
  },
  {
   "cell_type": "markdown",
   "metadata": {},
   "source": [
    "# Discussion\n",
    "\n",
    "The result indicated that the _Additamentum_ is an outlier with bootstrap $P < 0.05$. However, on further investigation, we discovered that the LSA space is extremely sensitive to the TF-IDF feature space. While it is clear from the classifier tests that clustering performance is strong, the relative locations of various points (and perhaps their centroids in general) seems to be very unstable.\n",
    "\n",
    "In the further experiments below we show:\n",
    "- Depending on the corpus (`A`, `B` or `C`), the geometry of the SVD space changes wildly\n",
    "- geometric outlier methods (as a single-class problem) might not be reliable in these spaces\n",
    "- The TF-IDF space itself is stable (the results don't change much between the three corpora)\n",
    "\n",
    "Unfortunately, the dimensionality of the full TF-IDF space is too high to use geometric methods."
   ]
  },
  {
   "cell_type": "code",
   "execution_count": 18,
   "metadata": {
    "execution": {
     "iopub.execute_input": "2021-07-04T01:55:59.168330Z",
     "iopub.status.busy": "2021-07-04T01:55:59.167391Z",
     "iopub.status.idle": "2021-07-04T02:38:49.404905Z",
     "shell.execute_reply": "2021-07-04T02:38:49.393625Z",
     "shell.execute_reply.started": "2021-07-04T01:55:59.167672Z"
    }
   },
   "outputs": [
    {
     "name": "stdout",
     "output_type": "stream",
     "text": [
      "Addit distance from Puni centroid: 0.6982\n",
      "Addit distance from Aeneid centroid: 0.7032\n",
      "Distance from Puni centroid to Aeneid centroid: 0.2958\n",
      "Percentage of PUNICA points CLOSER to Aeneid (than Addit): 89.12\n",
      "Percentage of PUNICA points FURTHER from Punica (than Addit): 1.32\n",
      "\n",
      "Addit distance from Puni centroid: 0.5655\n",
      "Addit distance from Aeneid centroid: 0.5791\n",
      "Distance from Puni centroid to Aeneid centroid: 0.2958\n",
      "Percentage of PUNICA points CLOSER to Aeneid (than Addit): 4.20\n",
      "Percentage of PUNICA points FURTHER from Punica (than Addit): 63.51\n",
      "\n",
      "Addit distance from Puni centroid: 0.3146\n",
      "Addit distance from Aeneid centroid: 0.3239\n",
      "Distance from Puni centroid to Aeneid centroid: 0.2958\n",
      "Percentage of PUNICA points CLOSER to Aeneid (than Addit): 0.04\n",
      "Percentage of PUNICA points FURTHER from Punica (than Addit): 99.95\n",
      "\n"
     ]
    }
   ],
   "source": [
    "tfidf = TfidfVectorizer(\n",
    "    use_idf=True,\n",
    "    sublinear_tf=True,\n",
    "    norm='l2', \n",
    "    analyzer='char',\n",
    "    ngram_range=(2,4),\n",
    ")\n",
    "lsa = make_pipeline(\n",
    "    TruncatedSVD(180, n_iter=10, random_state=42),\n",
    "    Normalizer(copy=False),\n",
    ")\n",
    "\n",
    "for cp in [corpus_A, corpus_B, corpus_C]:\n",
    "\n",
    "    # fit the TF-IDF weights etc to this corpus.\n",
    "    corpus_vecs = tfidf.fit_transform(cp.Chunk)\n",
    "    # calculate the eigenvectors based only on the actual corpus\n",
    "    lsa.fit(corpus_vecs)\n",
    "    puni_dist_tfidf = tfidf.transform(DIST_ADDIT_NOPROPS)\n",
    "    dist_vecs_puni = lsa.transform(puni_dist_tfidf)\n",
    "    # to calculate the centroid, take the geometric median in full dimension, then transform\n",
    "    cent_puni = geometric_median(np.asarray(puni_dist_tfidf.todense())).reshape(1,-1)\n",
    "    cent_puni_svd = lsa.transform(cent_puni)\n",
    "\n",
    "    dist_aen_tfidf = tfidf.transform(DIST_AEN)\n",
    "    dist_vecs_aen = lsa.transform(dist_aen_tfidf)\n",
    "    cent_aen = geometric_median(np.asarray(dist_aen_tfidf.todense())).reshape(1,-1)\n",
    "    cent_aen_svd = lsa.transform(cent_aen)\n",
    "\n",
    "    ad_vec = lsa.transform(tfidf.transform([ad_chunk]))\n",
    "    ad_dist_puni = pairwise_distances(cent_puni_svd, ad_vec, metric='l2')[0][0]\n",
    "    ad_dist_aen = pairwise_distances(cent_aen_svd, ad_vec, metric='l2')[0][0]\n",
    "\n",
    "    print(\"Addit distance from Puni centroid: %.4f\" % ad_dist_puni)\n",
    "    print(\"Addit distance from Aeneid centroid: %.4f\" % ad_dist_aen)\n",
    "\n",
    "    print(\"Distance from Puni centroid to Aeneid centroid: %.4f\" % pairwise_distances(cent_aen_svd, cent_puni_svd, metric='l2')[0][0])\n",
    "\n",
    "    aen_dists = [pairwise_distances(cent_aen_svd, x.reshape(1,-1), metric='l2')[0][0] for x in dist_vecs_puni]\n",
    "    print(\"Percentage of PUNICA points CLOSER to Aeneid (than Addit): %2.2f\" % (len([x for x in aen_dists if x < ad_dist_aen])/len(aen_dists)*100))\n",
    "\n",
    "    puni_dists = [pairwise_distances(cent_puni_svd, x.reshape(1,-1), metric='l2')[0][0] for x in dist_vecs_puni]\n",
    "    print(\"Percentage of PUNICA points FURTHER from Punica (than Addit): %2.2f\" % (len([x for x in puni_dists if x > ad_dist_puni])/len(puni_dists)*100))\n",
    "    print(\"\")"
   ]
  },
  {
   "cell_type": "markdown",
   "metadata": {},
   "source": [
    "## Metric outlier methods on SVD projections of high-dimensional data are confusing\n",
    "\n",
    "Looking at the results above, it seems clear that the geometry of the truncated SVD space is extremely sensitive to the input TF-IDF data, and metric-topological methods (centroid etc) seem fragile. Some other notes:\n",
    "- In the first two projections, the Addit is further from either centroid that the centroids are from each other. Although this is difficult to interpret, it _might_ support the theory that it is not written by either author, but is derivative of both.\n",
    "- In the results from `corpus_C` (not including the Addit in the TF-IDF training data), the fact that 99.9% of Punica points are further from the Punica centroid than the Addit is, itself, very strange. Points in high dimension usually lie in a thin 'shell' at quite a distance from the centroid. This is a consequence of the way high-dimensional metrics work (there are many 'directions' in which the data can diverge, so the 'minimum' distance given normal noise is quite far from the centroid). It is much more likely that the Addit is a point that is diverging from a different centroid entirely (which would support the claim of interpolation)\n",
    "- Further to that point, the distances from the centroid appear (based on a QQ plot, not shown) to be normally distributed about a mean. In that sense, a point being unusually close to the centroid is also an 'outlier' in the statistical sense.\n",
    "\n",
    "My current hypothesis is that a small change in a couple of eigenvalues means that a completely different eigenbasis is chosen, since the 'best' n vectors (ie with the highest eigenvalues) are the ones chosen for the reduction and that the position of anomalous points therefore varies greatly. In addition, the SVD process suffers from 'sign indeterminancy' in that the 'directions' in the basis can be switched, ie the same model, fit twice, might produce the same basis except with a few directions swapped, which would completely change the position of points with strong components in those directions.\n",
    "\n",
    "In general, the first experiment still seems to be the 'correct' one, but more broadly I am unsure, at this time, that metric-topological methods are appropriate for SVD projections of very high dimensional data (or at least not for this very high dimensional data) and so I have chosen not to present these results.\n",
    "\n",
    "## Repeating the experiment at 100 dimensions (per the documentation) - no change"
   ]
  },
  {
   "cell_type": "code",
   "execution_count": 19,
   "metadata": {
    "execution": {
     "iopub.execute_input": "2021-07-04T02:38:49.441405Z",
     "iopub.status.busy": "2021-07-04T02:38:49.440234Z",
     "iopub.status.idle": "2021-07-04T03:21:38.524529Z",
     "shell.execute_reply": "2021-07-04T03:21:38.515219Z",
     "shell.execute_reply.started": "2021-07-04T02:38:49.441322Z"
    }
   },
   "outputs": [
    {
     "name": "stdout",
     "output_type": "stream",
     "text": [
      "Addit distance from Puni centroid: 0.4160\n",
      "Addit distance from Aeneid centroid: 0.4199\n",
      "Distance from Puni centroid to Aeneid centroid: 0.1729\n",
      "Percentage of PUNICA points CLOSER to Aeneid (than Addit): 96.73\n",
      "Percentage of PUNICA points FURTHER from Punica (than Addit): 0.35\n",
      "\n",
      "Addit distance from Puni centroid: 0.3166\n",
      "Addit distance from Aeneid centroid: 0.3258\n",
      "Distance from Puni centroid to Aeneid centroid: 0.1729\n",
      "Percentage of PUNICA points CLOSER to Aeneid (than Addit): 15.23\n",
      "Percentage of PUNICA points FURTHER from Punica (than Addit): 45.44\n",
      "\n",
      "Addit distance from Puni centroid: 0.1608\n",
      "Addit distance from Aeneid centroid: 0.1684\n",
      "Distance from Puni centroid to Aeneid centroid: 0.1730\n",
      "Percentage of PUNICA points CLOSER to Aeneid (than Addit): 0.10\n",
      "Percentage of PUNICA points FURTHER from Punica (than Addit): 99.96\n",
      "\n"
     ]
    }
   ],
   "source": [
    "tfidf = TfidfVectorizer(\n",
    "    use_idf=True,\n",
    "    sublinear_tf=True,\n",
    "    norm='l2', \n",
    "    analyzer='char',\n",
    "    ngram_range=(2,4),\n",
    ")\n",
    "lsa = make_pipeline(\n",
    "    TruncatedSVD(100, n_iter=10, random_state=42),\n",
    "    #Normalizer(copy=False),\n",
    ")\n",
    "\n",
    "for cp in [corpus_A, corpus_B, corpus_C]:\n",
    "\n",
    "    # fit the TF-IDF weights etc to this corpus.\n",
    "    corpus_vecs = tfidf.fit_transform(cp.Chunk)\n",
    "    # calculate the eigenvectors based only on the actual corpus\n",
    "    lsa.fit(corpus_vecs)\n",
    "    puni_dist_tfidf = tfidf.transform(DIST_ADDIT_NOPROPS)\n",
    "    dist_vecs_puni = lsa.transform(puni_dist_tfidf)\n",
    "    # to calculate the centroid, take the geometric median in full dimension, then transform\n",
    "    cent_puni = geometric_median(np.asarray(puni_dist_tfidf.todense())).reshape(1,-1)\n",
    "    cent_puni_svd = lsa.transform(cent_puni)\n",
    "\n",
    "    dist_aen_tfidf = tfidf.transform(DIST_AEN)\n",
    "    dist_vecs_aen = lsa.transform(dist_aen_tfidf)\n",
    "    cent_aen = geometric_median(np.asarray(dist_aen_tfidf.todense())).reshape(1,-1)\n",
    "    cent_aen_svd = lsa.transform(cent_aen)\n",
    "\n",
    "    ad_vec = lsa.transform(tfidf.transform([ad_chunk]))\n",
    "    ad_dist_puni = pairwise_distances(cent_puni_svd, ad_vec, metric='l2')[0][0]\n",
    "    ad_dist_aen = pairwise_distances(cent_aen_svd, ad_vec, metric='l2')[0][0]\n",
    "\n",
    "    print(\"Addit distance from Puni centroid: %.4f\" % ad_dist_puni)\n",
    "    print(\"Addit distance from Aeneid centroid: %.4f\" % ad_dist_aen)\n",
    "\n",
    "    print(\"Distance from Puni centroid to Aeneid centroid: %.4f\" % pairwise_distances(cent_aen_svd, cent_puni_svd, metric='l2')[0][0])\n",
    "\n",
    "    aen_dists = [pairwise_distances(cent_aen_svd, x.reshape(1,-1), metric='l2')[0][0] for x in dist_vecs_puni]\n",
    "    print(\"Percentage of PUNICA points CLOSER to Aeneid (than Addit): %2.2f\" % (len([x for x in aen_dists if x < ad_dist_aen])/len(aen_dists)*100))\n",
    "\n",
    "    puni_dists = [pairwise_distances(cent_puni_svd, x.reshape(1,-1), metric='l2')[0][0] for x in dist_vecs_puni]\n",
    "    print(\"Percentage of PUNICA points FURTHER from Punica (than Addit): %2.2f\" % (len([x for x in puni_dists if x > ad_dist_puni])/len(puni_dists)*100))\n",
    "    print(\"\")"
   ]
  },
  {
   "cell_type": "markdown",
   "metadata": {},
   "source": [
    "## Corpus differences make little difference using un-reduced TF-IDF data\n",
    "\n",
    "Intuitively, such a small difference between the corpora should have made little difference, and indeed it makes little difference to the results taken in full dimensionality, as verified below. The variability is somehow a result of the SVD process.\n",
    "\n",
    "This is NOT an argument for using centroid measures (distance-metric based measures in general) on the un-reduced data, since the dimension is vastly overspecified compared to the number of samples."
   ]
  },
  {
   "cell_type": "code",
   "execution_count": 20,
   "metadata": {
    "execution": {
     "iopub.execute_input": "2021-07-04T03:21:38.565136Z",
     "iopub.status.busy": "2021-07-04T03:21:38.561541Z",
     "iopub.status.idle": "2021-07-04T04:04:59.729750Z",
     "shell.execute_reply": "2021-07-04T04:04:59.715272Z",
     "shell.execute_reply.started": "2021-07-04T03:21:38.563545Z"
    }
   },
   "outputs": [
    {
     "name": "stdout",
     "output_type": "stream",
     "text": [
      "Addit distance from Puni centroid: 0.8196\n",
      "Addit distance from Aeneid centroid: 0.8259\n",
      "Distance from Puni centroid to Aeneid centroid: 0.1763\n",
      "Percentage of PUNICA points CLOSER to Aeneid (than Addit): 44.59\n",
      "Percentage of PUNICA points FURTHER from Punica (than Addit): 11.07\n",
      "\n",
      "Addit distance from Puni centroid: 0.8195\n",
      "Addit distance from Aeneid centroid: 0.8258\n",
      "Distance from Puni centroid to Aeneid centroid: 0.1763\n",
      "Percentage of PUNICA points CLOSER to Aeneid (than Addit): 44.19\n",
      "Percentage of PUNICA points FURTHER from Punica (than Addit): 11.25\n",
      "\n",
      "Addit distance from Puni centroid: 0.8197\n",
      "Addit distance from Aeneid centroid: 0.8260\n",
      "Distance from Puni centroid to Aeneid centroid: 0.1764\n",
      "Percentage of PUNICA points CLOSER to Aeneid (than Addit): 45.15\n",
      "Percentage of PUNICA points FURTHER from Punica (than Addit): 10.94\n",
      "\n"
     ]
    }
   ],
   "source": [
    "tfidf = TfidfVectorizer(\n",
    "    use_idf=True,\n",
    "    sublinear_tf=True,\n",
    "    norm='l2', \n",
    "    analyzer='char',\n",
    "    ngram_range=(2,4),\n",
    ")\n",
    "\n",
    "\n",
    "for cp in [corpus_A, corpus_B, corpus_C]:\n",
    "\n",
    "    # fit the TF-IDF weights etc to this corpus.\n",
    "    corpus_vecs = tfidf.fit_transform(cp.Chunk)\n",
    "    # calculate the eigenvectors based only on the actual corpus\n",
    "    puni_dist_tfidf = tfidf.transform(DIST_ADDIT_NOPROPS)\n",
    "    # to calculate the centroid, take the geometric median in full dimension, then transform\n",
    "    cent_puni = geometric_median(np.asarray(puni_dist_tfidf.todense())).reshape(1,-1)\n",
    "\n",
    "    dist_aen_tfidf = tfidf.transform(DIST_AEN)\n",
    "    cent_aen = geometric_median(np.asarray(dist_aen_tfidf.todense())).reshape(1,-1)\n",
    "\n",
    "    ad_vec = tfidf.transform([ad_chunk])\n",
    "    ad_dist_puni = pairwise_distances(cent_puni, ad_vec, metric='l2')[0][0]\n",
    "    ad_dist_aen = pairwise_distances(cent_aen, ad_vec, metric='l2')[0][0]\n",
    "\n",
    "    print(\"Addit distance from Puni centroid: %.4f\" % ad_dist_puni)\n",
    "    print(\"Addit distance from Aeneid centroid: %.4f\" % ad_dist_aen)\n",
    "\n",
    "    print(\"Distance from Puni centroid to Aeneid centroid: %.4f\" % pairwise_distances(cent_aen, cent_puni, metric='l2')[0][0])\n",
    "\n",
    "    aen_dists = [pairwise_distances(cent_aen, x.reshape(1,-1), metric='l2')[0][0] for x in puni_dist_tfidf]\n",
    "    print(\"Percentage of PUNICA points CLOSER to Aeneid (than Addit): %2.2f\" % (len([x for x in aen_dists if x < ad_dist_aen])/len(aen_dists)*100))\n",
    "\n",
    "    puni_dists = [pairwise_distances(cent_puni, x.reshape(1,-1), metric='l2')[0][0] for x in puni_dist_tfidf]\n",
    "    print(\"Percentage of PUNICA points FURTHER from Punica (than Addit): %2.2f\" % (len([x for x in puni_dists if x > ad_dist_puni])/len(puni_dists)*100))\n",
    "    print(\"\")"
   ]
  },
  {
   "cell_type": "markdown",
   "metadata": {},
   "source": [
    "# Other approaches - OneClassSVM\n",
    "\n",
    "SVMs with linear kernels scale well to large dimensions, and have been used for outlier detection, with the most common being the One-class SVM. In the experiment below we find the following:\n",
    "- With the _Additamentum_ included, we trained a `OneClassSVM` on a sampled distribution of 5000 contiguous 81-line chunks from the _Punica_. At the 95% confidence level it was detected as an inlier.\n",
    "- Without the _Additamentum_ in the training data (training only on securely Silian text) it is detected as an outlier at the same threshold.\n",
    "- If the _Additamentum_ is spliced into the _Aeneid_ it is detected as an _inlier_, but an outlier if not.\n",
    "\n",
    "Based on this I suggest that the _Additamentum_ is right at the edge of the threshold in terms of stylistic similarity to _both_ the _Aeneid_ and the _Punica_ but in fact is an outlier from both texts at the 95% confidence level. Again, this is consistent with the work of an interpolator trained on Vergil who is attempting (and doing an excellent job) to imitate Silius.\n",
    "\n",
    "Again, this result is NOT reported in the paper because I do not consider it to be a 'secure' $P$-value. The statistical hypothesis when setting up a One-class SVM with a given contamination level is...complex. Perhaps I am being too conservative here.\n",
    "\n",
    "Based on this and many other tests conducted on this data (various other metric tests, work with multiclass classifiers, other outlier detection methods...) I remain confident in the general finding:\n",
    "\n",
    "### The _Additamentum_ is right at the edge of the detectable stylistic boundary of _both_ the _Aeneid_ and the _Punica_ when considering lexico-grammatical style as reflected by LSA. Nevertheless, it is an outlier from both works."
   ]
  },
  {
   "cell_type": "code",
   "execution_count": 21,
   "metadata": {
    "execution": {
     "iopub.execute_input": "2021-07-04T04:04:59.765351Z",
     "iopub.status.busy": "2021-07-04T04:04:59.760777Z",
     "iopub.status.idle": "2021-07-04T04:04:59.835192Z",
     "shell.execute_reply": "2021-07-04T04:04:59.834250Z",
     "shell.execute_reply.started": "2021-07-04T04:04:59.765188Z"
    }
   },
   "outputs": [],
   "source": [
    "def howmany(key, corpus):\n",
    "    _, work = key.split('--')\n",
    "    return len(corpus[corpus.Work==work])"
   ]
  },
  {
   "cell_type": "code",
   "execution_count": 22,
   "metadata": {
    "execution": {
     "iopub.execute_input": "2021-07-04T04:04:59.843380Z",
     "iopub.status.busy": "2021-07-04T04:04:59.842009Z",
     "iopub.status.idle": "2021-07-04T04:04:59.972403Z",
     "shell.execute_reply": "2021-07-04T04:04:59.970071Z",
     "shell.execute_reply.started": "2021-07-04T04:04:59.843225Z"
    }
   },
   "outputs": [],
   "source": [
    "def oneclass_svm_experiment(corpus_ll, addit_ll, insert_at=None, comp_corpus=corpus_A, n=5000, contamination=0.05):\n",
    "    '''\n",
    "    For the given corpus, perform the following experiment using a One Class SVM for outlier\n",
    "    detection:\n",
    "      * Create a sampled distribution of n chunks of 81 lines from the work given\n",
    "      * TF-IDF transform the sample\n",
    "      * Train a One Class SVM on the transformed sample at full dimensionality\n",
    "      * Predict FROM THE ORIGINAL CORPUS which chunks are inliers\n",
    "      * Repeat the steps above, but with the Additamentum spliced into the middle of the lines\n",
    "    '''\n",
    "    \n",
    "    print(\"Running at %.1f%% contamination, sample n=%d\\n\" % (contamination*100, n))\n",
    "    \n",
    "    tfidf = TfidfVectorizer(\n",
    "        sublinear_tf=True, \n",
    "        use_idf=True,\n",
    "        norm='l2', \n",
    "        analyzer='char',\n",
    "        ngram_range=(2,4)\n",
    "    )\n",
    "    \n",
    "    if not insert_at:\n",
    "        insert_at = len(corpus_ll)//2\n",
    "    if insert_at+81 > len(corpus_ll):\n",
    "        raise ValueError(\"Trying to insert past end of text\")\n",
    "        \n",
    "    # Run 1\n",
    "    print(\"Run 1 -- Training on text only\")\n",
    "    dist = sample_chunks(corpus_ll, n, 81, np.random.RandomState(seed=1234))\n",
    "    dist_tfidf = tfidf.fit_transform(dist)\n",
    "    # The RBF kernel is generally as good or better but linear kernel is MUCH\n",
    "    # faster, and the dimensionality is high here. In other tests, linear\n",
    "    # and rbf SVMs for classification were both so accurate as to be indistinguishable\n",
    "    ocsvm = OneClassSVM(nu=contamination, kernel=\"linear\",gamma='scale')\n",
    "    ocsvm.fit(dist_tfidf)\n",
    "    corpus_preds = ocsvm.predict(tfidf.transform(comp_corpus.Chunk))\n",
    "    # select the rows from the original corpus at the locations where the\n",
    "    # prediction vector is '1' (for inlier)\n",
    "    keys = comp_corpus.loc[corpus_preds==1][['Author','Work']].agg('--'.join, axis=1)\n",
    "    ctr = Counter(keys)\n",
    "    preds = '\\n'.join([\"  %s: %d/%d\" % (k,v,howmany(k,comp_corpus)) for (k,v) in  ctr.items()])\n",
    "    print(\"Chunks detected as inliers:\\n%s\\n\" % preds)\n",
    "    \n",
    "    # Run 2\n",
    "    \n",
    "    print(\"Run 2 -- Splicing Additamentum into training text at line %d\" % insert_at)\n",
    "    spliced = corpus_ll[:insert_at] + addit_ll + corpus_ll[insert_at:]\n",
    "    dist = sample_chunks(spliced, n, 81, np.random.RandomState(seed=1234))\n",
    "    dist_tfidf = tfidf.fit_transform(dist)\n",
    "    ocsvm = OneClassSVM(nu=contamination, kernel=\"linear\",gamma='scale')\n",
    "    ocsvm.fit(dist_tfidf)\n",
    "    corpus_preds = ocsvm.predict(tfidf.transform(comp_corpus.Chunk))\n",
    "    keys = comp_corpus.loc[corpus_preds==1][['Author','Work']].agg('--'.join, axis=1)\n",
    "    ctr = Counter(keys)\n",
    "    preds = '\\n'.join([\"  %s: %d/%d\" % (k,v,howmany(k,comp_corpus)) for (k,v) in  ctr.items()])\n",
    "    print(\"Chunks detected as inliers:\\n%s\\n\" % preds)"
   ]
  },
  {
   "cell_type": "markdown",
   "metadata": {},
   "source": [
    "# Experiment Description\n",
    "\n",
    "For the given corpus, perform the following experiment using a One Class SVM for outlier\n",
    "detection:\n",
    "  * Create a sampled distribution of n chunks of 81 lines from the work given\n",
    "  * TF-IDF transform the sample\n",
    "  * Train a One Class SVM on the transformed sample at full dimensionality\n",
    "  * Predict FROM THE ORIGINAL CORPUS which chunks are inliers\n",
    "  * Repeat the steps above, but with the Additamentum spliced into the middle of the lines\n",
    "  \n",
    "So, eg, when we train on the _Punica_, and then use that classifier to examine the entire corpus, it picks 136/150 of the real Punica chunks, and also a few chunks of the Aeneid, Thebaid and Pharsalia (all works to which Silius has known intertextual links). When trained on the _Aeneid_ it likewise picks most of those chunks as well as a few of Silius, Ovid and Statius. The results seem more or less as expected. Remember that the `OneClassSVM` is trained with a contamination value of 5% and so it would be expected to reject 5% of the chunks of genuine Silius (actually it rejects ~10%) or the genuine _Aeneid_ (it rejects very close to 5%). Silius is more varible in lexico-grammatical style than Vergil in the _Aeneid_.\n",
    "\n",
    "### NOTE: Hacking random results\n",
    "\n",
    "Choosing exactly where to insert the Addit raises the spectre of \"result hacking\", which indeed it is. In fact, when inserted in the exact middle of both texts it was detected as an outlier in both cases (when included in the training data and when omitted). Given that I wanted to demonstrate that _sometimes_ it is detected as an inlier, I had to choose values where that happened. Essentially I am hacking the results to force them to display a weakness (if the Addit were always detected as an outlier that would be a stronger result)."
   ]
  },
  {
   "cell_type": "code",
   "execution_count": 23,
   "metadata": {
    "execution": {
     "iopub.execute_input": "2021-07-04T04:05:00.073682Z",
     "iopub.status.busy": "2021-07-04T04:05:00.073101Z",
     "iopub.status.idle": "2021-07-04T04:09:59.394996Z",
     "shell.execute_reply": "2021-07-04T04:09:59.394280Z",
     "shell.execute_reply.started": "2021-07-04T04:05:00.073514Z"
    }
   },
   "outputs": [
    {
     "name": "stdout",
     "output_type": "stream",
     "text": [
      "Running at 5.0% contamination, sample n=5000\n",
      "\n",
      "Run 1 -- Training on text only\n",
      "Chunks detected as inliers:\n",
      "  Vergil--Aeneid: 3/121\n",
      "  Silius--Punica: 136/150\n",
      "  Statius--Thebaid: 2/120\n",
      "  Lucan--Pharsalia: 6/99\n",
      "\n",
      "Run 2 -- Splicing Additamentum into training text at line 5230\n",
      "Chunks detected as inliers:\n",
      "  Vergil--Aeneid: 3/121\n",
      "  Silius--Punica: 138/150\n",
      "  Unknown--Punica: 1/150\n",
      "  Statius--Thebaid: 2/120\n",
      "  Lucan--Pharsalia: 7/99\n",
      "\n"
     ]
    }
   ],
   "source": [
    "oneclass_svm_experiment(puni_na, addit_lines, insert_at=5230)"
   ]
  },
  {
   "cell_type": "code",
   "execution_count": 24,
   "metadata": {
    "execution": {
     "iopub.execute_input": "2021-07-04T04:09:59.396932Z",
     "iopub.status.busy": "2021-07-04T04:09:59.396484Z",
     "iopub.status.idle": "2021-07-04T04:15:00.546298Z",
     "shell.execute_reply": "2021-07-04T04:15:00.545178Z",
     "shell.execute_reply.started": "2021-07-04T04:09:59.396864Z"
    }
   },
   "outputs": [
    {
     "name": "stdout",
     "output_type": "stream",
     "text": [
      "Running at 5.0% contamination, sample n=5000\n",
      "\n",
      "Run 1 -- Training on text only\n",
      "Chunks detected as inliers:\n",
      "  Vergil--Aeneid: 115/121\n",
      "  Ovid--Metamorphoses: 2/148\n",
      "  Silius--Punica: 9/150\n",
      "  Statius--Thebaid: 4/120\n",
      "\n",
      "Run 2 -- Splicing Additamentum into training text at line 5000\n",
      "Chunks detected as inliers:\n",
      "  Vergil--Aeneid: 115/121\n",
      "  Ovid--Metamorphoses: 2/148\n",
      "  Silius--Punica: 11/150\n",
      "  Unknown--Punica: 1/150\n",
      "  Statius--Thebaid: 4/120\n",
      "\n"
     ]
    }
   ],
   "source": [
    "oneclass_svm_experiment(aen_ll_np, addit_lines, insert_at=5000)"
   ]
  },
  {
   "cell_type": "code",
   "execution_count": 25,
   "metadata": {
    "execution": {
     "iopub.execute_input": "2021-07-04T04:15:00.547655Z",
     "iopub.status.busy": "2021-07-04T04:15:00.547341Z",
     "iopub.status.idle": "2021-07-04T04:19:58.314942Z",
     "shell.execute_reply": "2021-07-04T04:19:58.313826Z",
     "shell.execute_reply.started": "2021-07-04T04:15:00.547608Z"
    }
   },
   "outputs": [
    {
     "name": "stdout",
     "output_type": "stream",
     "text": [
      "Running at 5.0% contamination, sample n=5000\n",
      "\n",
      "Run 1 -- Training on text only\n",
      "Chunks detected as inliers:\n",
      "  Vergil--Aeneid: 3/121\n",
      "  Silius--Punica: 136/150\n",
      "  Statius--Thebaid: 2/120\n",
      "  Lucan--Pharsalia: 6/99\n",
      "\n",
      "Run 2 -- Splicing Additamentum into training text at line 6059\n",
      "Chunks detected as inliers:\n",
      "  Vergil--Aeneid: 2/121\n",
      "  Silius--Punica: 139/150\n",
      "  Statius--Thebaid: 2/120\n",
      "  Lucan--Pharsalia: 6/99\n",
      "\n"
     ]
    }
   ],
   "source": [
    "# Just splicing in the Addit to the Punica isn't enough to ensure it will be detected as\n",
    "# an inlier, it is sensitive to the location and the random sample. This seems to be\n",
    "# further evidence that it is right on the stylistic border.\n",
    "\n",
    "oneclass_svm_experiment(puni_na, addit_lines)"
   ]
  },
  {
   "cell_type": "markdown",
   "metadata": {},
   "source": [
    "# Other Approaches - Multiclass Classifier Experiments\n",
    "\n",
    "This last exploration is in support of the claim that the style is closer to the Aeneid than the Punica, and much more in imitation of Vergil than Silius' general style. It should first be emphasised that in a multi-class classification, the computer is forced to choose between a fixed set of labels, it can't guess 'non of the above' (which is what is being claimed, ie that the Addit is by an unknown interpolator). There is no possibility, obviously, that the style is actually Vergilian, simply that the algorithm thinks it is _more like Vergil than Silius_. \n",
    "\n",
    "Classifiers are not really good ways to support (or refute) claims of non-genuineness. The experiments below are offered simply in the spirit of open investigation."
   ]
  },
  {
   "cell_type": "code",
   "execution_count": 26,
   "metadata": {
    "execution": {
     "iopub.execute_input": "2021-07-04T04:19:58.316851Z",
     "iopub.status.busy": "2021-07-04T04:19:58.316231Z",
     "iopub.status.idle": "2021-07-04T04:19:58.333560Z",
     "shell.execute_reply": "2021-07-04T04:19:58.327490Z",
     "shell.execute_reply.started": "2021-07-04T04:19:58.316544Z"
    }
   },
   "outputs": [],
   "source": [
    "def mean_confidence_interval(data, confidence=0.95):\n",
    "    '''\n",
    "    Calculate the 95% confidence interval around the mean for an array of numbers.\n",
    "    Uses one-sample T-test.\n",
    "    '''\n",
    "    a = 1.0 * np.array(data)\n",
    "    n = len(a)\n",
    "    m, se = np.mean(a), sp.stats.sem(a)\n",
    "    h = se * sp.stats.t.ppf((1 + confidence) / 2., n-1)\n",
    "    return m, h"
   ]
  },
  {
   "cell_type": "code",
   "execution_count": 27,
   "metadata": {
    "execution": {
     "iopub.execute_input": "2021-07-04T04:19:58.335839Z",
     "iopub.status.busy": "2021-07-04T04:19:58.335194Z",
     "iopub.status.idle": "2021-07-04T04:19:58.368321Z",
     "shell.execute_reply": "2021-07-04T04:19:58.361486Z",
     "shell.execute_reply.started": "2021-07-04T04:19:58.335738Z"
    }
   },
   "outputs": [],
   "source": [
    "def classifier_test(clf, corp, test_chunk, use_svd=True, do_cv=True, refits=10, fit_dist=True):\n",
    "    \n",
    "    p=None\n",
    "    rng = np.random.RandomState(seed=1234)\n",
    "    \n",
    "    if use_svd:\n",
    "        print(\"Running SVD at 180 dimensions.\")\n",
    "        p = make_pipeline(\n",
    "            TfidfVectorizer(sublinear_tf=True, use_idf=True, norm='l2', analyzer='char', ngram_range=(2,4)),\n",
    "            TruncatedSVD(180, random_state=rng),\n",
    "            Normalizer(copy=False),\n",
    "            clf,\n",
    "        )\n",
    "    else:\n",
    "        print(\"Running at full dimensionality.\")\n",
    "        p = make_pipeline(\n",
    "            TfidfVectorizer(sublinear_tf=True, use_idf=True, norm='l2', analyzer='char', ngram_range=(2,4)),\n",
    "            clf,\n",
    "        )\n",
    "        \n",
    "    print(\"Testing Classifier: %s\" % clf)\n",
    "    clf_res = {'Author':[], 'Work':{}}\n",
    "    if do_cv:\n",
    "        print(\"Doing 10 fold CV with 80/20 split, recall weighted\")\n",
    "        s = cross_val_score(p, corp.Chunk, corp.Work, cv=StratifiedShuffleSplit(n_splits=10, test_size=0.2), n_jobs=-1, scoring='recall_weighted')\n",
    "        m,h = mean_confidence_interval(s)\n",
    "        clf_res['Work']=[m,h]\n",
    "        print(\"Accuracy (Work): %.2f%% ± %.3f\" % (m*100, h*100))\n",
    "        s = cross_val_score(p, corp.Chunk, corp.Author, cv=StratifiedShuffleSplit(n_splits=10, test_size=0.2), n_jobs=-1, scoring='recall_weighted')\n",
    "        m,h = mean_confidence_interval(s)\n",
    "        clf_res['Author']=[m,h]\n",
    "        print(\"Accuracy (Author): %.2f%% ± %.3f\" % (m*100, h*100))\n",
    "        \n",
    "    print(\"Refitting %d times\" % refits)\n",
    "    pred_auths, pred_works = [], []\n",
    "    for _ in range(refits):\n",
    "        p.fit(corp.Chunk, corp.Author)\n",
    "        pred_auths.append(p.predict([test_chunk])[0])\n",
    "        p.fit(corp.Chunk, corp.Work)\n",
    "        pred_works.append(p.predict([test_chunk])[0])\n",
    "    print(\"Predicting for the test chunk. Author: %s. Work: %s.\" % (Counter(pred_auths), Counter(pred_works)))\n",
    "    \n",
    "    # How many random chunks of securely attributed Punica are predicted as something else?\n",
    "    dist_preds = Counter([])\n",
    "    if fit_dist:\n",
    "        p.fit(corp.Chunk, corp.Work)\n",
    "        dist_works = Counter(p.predict(DIST_PUNI_NA_10K))\n",
    "        p.fit(corp.Chunk, corp.Author)\n",
    "        dist_auths = Counter(p.predict(DIST_PUNI_NA_10K))\n",
    "        print(\"Predicting for 10,000 random Punica Chunks. Author: %s. Work: %s\" % (dist_auths, dist_works))\n",
    "    \n",
    "    #return (clf_res, pred_auths, pred_works, dist_preds)"
   ]
  },
  {
   "cell_type": "markdown",
   "metadata": {},
   "source": [
    "# Multi-class Classification with K-Nearest Neighbours\n",
    "\n",
    "Since we have decided that distance-metric measures are unstable in the SVD space but the _local_ topology seems OK (it's still some kind of Riemannian manifold)  I experiment here with K-Nearest Neighbours, as well as some other classifiers that are generally considered suitable for high dimension problems.\n",
    "\n",
    "We work here with two corpora. Since this is a classification test, we use `corpus_C` as a base, since we can't have the chunk of interest (the Addit) in the training data. I also test with a subset of `corpus_C` containing ONLY the _Aeneid_ and the _Punica_."
   ]
  },
  {
   "cell_type": "code",
   "execution_count": 28,
   "metadata": {
    "execution": {
     "iopub.execute_input": "2021-07-04T04:19:58.370245Z",
     "iopub.status.busy": "2021-07-04T04:19:58.369807Z",
     "iopub.status.idle": "2021-07-04T04:19:58.433166Z",
     "shell.execute_reply": "2021-07-04T04:19:58.418091Z",
     "shell.execute_reply.started": "2021-07-04T04:19:58.370114Z"
    }
   },
   "outputs": [
    {
     "data": {
      "text/plain": [
       "16.431676725154983"
      ]
     },
     "execution_count": 28,
     "metadata": {},
     "output_type": "execute_result"
    }
   ],
   "source": [
    "# One heuristic for KNN is to use sqrt(n) neighbours, but the best approach always depepnds on the data.\n",
    "\n",
    "aenpu = corpus_C.query('Work==\"Aeneid\" or Work==\"Punica\"')\n",
    "math.sqrt(len(aenpu))"
   ]
  },
  {
   "cell_type": "markdown",
   "metadata": {},
   "source": [
    "## K-Nearest Neighbours predicts the Additamentum to be the _Aeneid_ with low K\n",
    "\n",
    "At higher values of K the value changes to predict the _Punica_. Again this seems consistent with the idea that the Additamentum is at the stylistic boundary between the works. However when the results for 10,000 random contiguous chunks of the (securely attributed) Punica are predicted at $K=5$, none of them are predicted as the Aeneid. \n",
    "\n",
    "### This again supports the conclusion that whatever the prediction result (and clearly the predictions vary by classifier and by parameter selection), the _Additamentum_ chunk is much closer to the style of the _Aeneid_ than typical Silian style.\n"
   ]
  },
  {
   "cell_type": "code",
   "execution_count": 29,
   "metadata": {
    "execution": {
     "iopub.execute_input": "2021-07-04T04:19:58.436185Z",
     "iopub.status.busy": "2021-07-04T04:19:58.434521Z",
     "iopub.status.idle": "2021-07-04T04:23:43.602976Z",
     "shell.execute_reply": "2021-07-04T04:23:43.602041Z",
     "shell.execute_reply.started": "2021-07-04T04:19:58.436061Z"
    }
   },
   "outputs": [
    {
     "name": "stdout",
     "output_type": "stream",
     "text": [
      "Running at full dimensionality.\n",
      "Testing Classifier: KNeighborsClassifier(algorithm='auto', leaf_size=30, metric='euclidean',\n",
      "                     metric_params=None, n_jobs=None, n_neighbors=5, p=2,\n",
      "                     weights='distance')\n",
      "Doing 10 fold CV with 80/20 split, recall weighted\n",
      "Accuracy (Work): 98.89% ± 0.926\n",
      "Accuracy (Author): 98.15% ± 1.396\n",
      "Refitting 1 times\n",
      "Predicting for the test chunk. Author: Counter({'Vergil': 1}). Work: Counter({'Aeneid': 1}).\n",
      "Predicting for 10,000 random Punica Chunks. Author: Counter({'Silius': 10000}). Work: Counter({'Punica': 10000})\n"
     ]
    }
   ],
   "source": [
    "classifier_test(KNeighborsClassifier(n_neighbors=5, weights='distance', metric='euclidean'), aenpu, ad_chunk, do_cv=True, use_svd=False, refits=1, fit_dist=True)"
   ]
  },
  {
   "cell_type": "code",
   "execution_count": 30,
   "metadata": {
    "execution": {
     "iopub.execute_input": "2021-07-04T04:23:43.604505Z",
     "iopub.status.busy": "2021-07-04T04:23:43.604199Z",
     "iopub.status.idle": "2021-07-04T04:24:13.114836Z",
     "shell.execute_reply": "2021-07-04T04:24:13.111423Z",
     "shell.execute_reply.started": "2021-07-04T04:23:43.604381Z"
    }
   },
   "outputs": [
    {
     "name": "stdout",
     "output_type": "stream",
     "text": [
      "Running at full dimensionality.\n",
      "Testing Classifier: KNeighborsClassifier(algorithm='auto', leaf_size=30, metric='minkowski',\n",
      "                     metric_params=None, n_jobs=None, n_neighbors=17, p=2,\n",
      "                     weights='uniform')\n",
      "Doing 10 fold CV with 80/20 split, recall weighted\n",
      "Accuracy (Work): 100.00% ± 0.000\n",
      "Accuracy (Author): 99.63% ± 0.559\n",
      "Refitting 1 times\n",
      "Predicting for the test chunk. Author: Counter({'Silius': 1}). Work: Counter({'Punica': 1}).\n"
     ]
    }
   ],
   "source": [
    "classifier_test(KNeighborsClassifier(n_neighbors=17), aenpu, ad_chunk, do_cv=True, use_svd=False, refits=1, fit_dist=False)"
   ]
  },
  {
   "cell_type": "code",
   "execution_count": 31,
   "metadata": {
    "execution": {
     "iopub.execute_input": "2021-07-04T04:24:13.116180Z",
     "iopub.status.busy": "2021-07-04T04:24:13.115956Z",
     "iopub.status.idle": "2021-07-04T04:29:49.357157Z",
     "shell.execute_reply": "2021-07-04T04:29:49.356199Z",
     "shell.execute_reply.started": "2021-07-04T04:24:13.116143Z"
    }
   },
   "outputs": [
    {
     "name": "stdout",
     "output_type": "stream",
     "text": [
      "Running at full dimensionality.\n",
      "Testing Classifier: KNeighborsClassifier(algorithm='auto', leaf_size=30, metric='euclidean',\n",
      "                     metric_params=None, n_jobs=None, n_neighbors=5, p=2,\n",
      "                     weights='distance')\n",
      "Doing 10 fold CV with 80/20 split, recall weighted\n",
      "Accuracy (Work): 96.23% ± 1.162\n",
      "Accuracy (Author): 97.11% ± 0.905\n",
      "Refitting 1 times\n",
      "Predicting for the test chunk. Author: Counter({'Vergil': 1}). Work: Counter({'Aeneid': 1}).\n",
      "Predicting for 10,000 random Punica Chunks. Author: Counter({'Silius': 9954, 'Lucan': 46}). Work: Counter({'Punica': 9954, 'Pharsalia': 46})\n"
     ]
    }
   ],
   "source": [
    "classifier_test(KNeighborsClassifier(n_neighbors=5, weights='distance', metric='euclidean'), corpus_C, ad_chunk, do_cv=True, use_svd=False, refits=1, fit_dist=True)"
   ]
  },
  {
   "cell_type": "code",
   "execution_count": 32,
   "metadata": {
    "execution": {
     "iopub.execute_input": "2021-07-04T04:29:49.358704Z",
     "iopub.status.busy": "2021-07-04T04:29:49.358143Z",
     "iopub.status.idle": "2021-07-04T04:31:15.331414Z",
     "shell.execute_reply": "2021-07-04T04:31:15.329961Z",
     "shell.execute_reply.started": "2021-07-04T04:29:49.358318Z"
    }
   },
   "outputs": [
    {
     "name": "stdout",
     "output_type": "stream",
     "text": [
      "Running at full dimensionality.\n",
      "Testing Classifier: KNeighborsClassifier(algorithm='auto', leaf_size=30, metric='euclidean',\n",
      "                     metric_params=None, n_jobs=None, n_neighbors=17, p=2,\n",
      "                     weights='distance')\n",
      "Doing 10 fold CV with 80/20 split, recall weighted\n",
      "Accuracy (Work): 96.73% ± 0.664\n",
      "Accuracy (Author): 98.62% ± 0.592\n",
      "Refitting 1 times\n",
      "Predicting for the test chunk. Author: Counter({'Silius': 1}). Work: Counter({'Punica': 1}).\n"
     ]
    }
   ],
   "source": [
    "classifier_test(KNeighborsClassifier(n_neighbors=17, weights='distance', metric='euclidean'), corpus_C, ad_chunk, do_cv=True, use_svd=False, refits=1, fit_dist=False)"
   ]
  },
  {
   "cell_type": "markdown",
   "metadata": {},
   "source": [
    "## Other Classifier Results\n",
    "\n",
    "We test a set of classifiers that are suitable for large-scale learning problems (problems with very high numbers of samples or (in this case) large numbers of features). Some classifiers predict that the Addit is from the _Punica_, some from the _Aeneid_. In many cases the outcome depends on various stochastic processes that occur in the operation of the classifier. Again, the _Additamentum_ is much closer to the border between Silius and Vergil than 'typical' Silian verse.\n",
    "\n",
    "## Reminder: Classifiers are not well suited for positive genuineness arguments\n",
    "\n",
    "It is tempting to see results like \"the Addit is detected as Silius 7 times and Vergil 3 times, so it is 70% likely to be by Silius\". This is not the correct interpretation. If the text is by neither author the algorithm is still forced to make a choice, and so it picks the author to which the lexico-grammatical features are most similar. If the Addit is by a Humanist interpolator, educated with a level of Latineity almost inconceivable to us, then it is not surprising that the text is similar to genuine Silian style. The argument I am continuing here is that the style is more Vergilian in general than typical Silius."
   ]
  },
  {
   "cell_type": "code",
   "execution_count": 33,
   "metadata": {
    "execution": {
     "iopub.execute_input": "2021-07-04T04:31:15.337875Z",
     "iopub.status.busy": "2021-07-04T04:31:15.332987Z",
     "iopub.status.idle": "2021-07-04T04:34:57.679893Z",
     "shell.execute_reply": "2021-07-04T04:34:57.678308Z",
     "shell.execute_reply.started": "2021-07-04T04:31:15.337797Z"
    }
   },
   "outputs": [
    {
     "name": "stdout",
     "output_type": "stream",
     "text": [
      "----------------------------------------\n",
      "\n",
      "Running at full dimensionality.\n",
      "Testing Classifier: Perceptron(alpha=0.0001, class_weight=None, early_stopping=False, eta0=1.0,\n",
      "           fit_intercept=True, max_iter=1000, n_iter_no_change=5, n_jobs=None,\n",
      "           penalty=None, random_state=RandomState(MT19937) at 0x12268D050,\n",
      "           shuffle=True, tol=0.001, validation_fraction=0.1, verbose=0,\n",
      "           warm_start=False)\n",
      "Refitting 10 times\n",
      "Predicting for the test chunk. Author: Counter({'Silius': 6, 'Vergil': 4}). Work: Counter({'Punica': 9, 'Aeneid': 1}).\n",
      "\n",
      "----------------------------------------\n",
      "----------------------------------------\n",
      "\n",
      "Running at full dimensionality.\n",
      "Testing Classifier: PassiveAggressiveClassifier(C=1.0, average=False, class_weight=None,\n",
      "                            early_stopping=False, fit_intercept=True,\n",
      "                            loss='squared_hinge', max_iter=1000,\n",
      "                            n_iter_no_change=5, n_jobs=None,\n",
      "                            random_state=RandomState(MT19937) at 0x12268D050,\n",
      "                            shuffle=True, tol=0.001, validation_fraction=0.1,\n",
      "                            verbose=0, warm_start=False)\n",
      "Refitting 10 times\n",
      "Predicting for the test chunk. Author: Counter({'Silius': 10}). Work: Counter({'Punica': 10}).\n",
      "\n",
      "----------------------------------------\n",
      "----------------------------------------\n",
      "\n",
      "Running at full dimensionality.\n",
      "Testing Classifier: PassiveAggressiveClassifier(C=1.0, average=False, class_weight=None,\n",
      "                            early_stopping=False, fit_intercept=True,\n",
      "                            loss='hinge', max_iter=1000, n_iter_no_change=5,\n",
      "                            n_jobs=None,\n",
      "                            random_state=RandomState(MT19937) at 0x12268D050,\n",
      "                            shuffle=True, tol=0.001, validation_fraction=0.1,\n",
      "                            verbose=0, warm_start=False)\n",
      "Refitting 10 times\n",
      "Predicting for the test chunk. Author: Counter({'Silius': 10}). Work: Counter({'Punica': 9, 'Aeneid': 1}).\n",
      "\n",
      "----------------------------------------\n",
      "----------------------------------------\n",
      "\n",
      "Running at full dimensionality.\n",
      "Testing Classifier: SGDClassifier(alpha=0.0001, average=False, class_weight=None,\n",
      "              early_stopping=False, epsilon=0.1, eta0=0.0, fit_intercept=True,\n",
      "              l1_ratio=0.15, learning_rate='optimal', loss='hinge',\n",
      "              max_iter=1000, n_iter_no_change=5, n_jobs=None, penalty='l2',\n",
      "              power_t=0.5, random_state=RandomState(MT19937) at 0x12268D050,\n",
      "              shuffle=True, tol=0.001, validation_fraction=0.1, verbose=0,\n",
      "              warm_start=False)\n",
      "Refitting 10 times\n",
      "Predicting for the test chunk. Author: Counter({'Silius': 8, 'Vergil': 2}). Work: Counter({'Punica': 7, 'Aeneid': 3}).\n",
      "\n",
      "----------------------------------------\n",
      "----------------------------------------\n",
      "\n",
      "Running at full dimensionality.\n",
      "Testing Classifier: SGDClassifier(alpha=0.0001, average=False, class_weight=None,\n",
      "              early_stopping=False, epsilon=0.1, eta0=0.0, fit_intercept=True,\n",
      "              l1_ratio=0.15, learning_rate='optimal', loss='log', max_iter=1000,\n",
      "              n_iter_no_change=5, n_jobs=None, penalty='l2', power_t=0.5,\n",
      "              random_state=RandomState(MT19937) at 0x12268D050, shuffle=True,\n",
      "              tol=0.001, validation_fraction=0.1, verbose=0, warm_start=False)\n",
      "Refitting 10 times\n",
      "Predicting for the test chunk. Author: Counter({'Silius': 10}). Work: Counter({'Punica': 9, 'Aeneid': 1}).\n",
      "\n",
      "----------------------------------------\n"
     ]
    }
   ],
   "source": [
    "rng = np.random.RandomState(seed=1234)\n",
    "clfs = [\n",
    "    (Perceptron(random_state=rng), None),\n",
    "    (PassiveAggressiveClassifier(loss='squared_hinge',random_state=rng), None),\n",
    "    (PassiveAggressiveClassifier(loss='hinge',random_state=rng), None),\n",
    "    (SGDClassifier(loss='hinge',random_state=rng), None),\n",
    "    (SGDClassifier(loss='log',random_state=rng), None),\n",
    "]\n",
    "\n",
    "for (c,dims) in clfs:\n",
    "    print('-'*40)\n",
    "    print()\n",
    "    classifier_test(c, aenpu, ad_chunk, do_cv=False, use_svd=False, refits=10, fit_dist=False)\n",
    "    print()\n",
    "    print('-'*40)"
   ]
  },
  {
   "cell_type": "code",
   "execution_count": 34,
   "metadata": {
    "execution": {
     "iopub.execute_input": "2021-07-04T04:34:57.681714Z",
     "iopub.status.busy": "2021-07-04T04:34:57.681390Z",
     "iopub.status.idle": "2021-07-04T04:45:57.970626Z",
     "shell.execute_reply": "2021-07-04T04:45:57.968959Z",
     "shell.execute_reply.started": "2021-07-04T04:34:57.681658Z"
    }
   },
   "outputs": [
    {
     "name": "stdout",
     "output_type": "stream",
     "text": [
      "----------------------------------------\n",
      "\n",
      "Running at full dimensionality.\n",
      "Testing Classifier: Perceptron(alpha=0.0001, class_weight=None, early_stopping=False, eta0=1.0,\n",
      "           fit_intercept=True, max_iter=1000, n_iter_no_change=5, n_jobs=None,\n",
      "           penalty=None, random_state=RandomState(MT19937) at 0x12268D160,\n",
      "           shuffle=True, tol=0.001, validation_fraction=0.1, verbose=0,\n",
      "           warm_start=False)\n",
      "Refitting 10 times\n",
      "Predicting for the test chunk. Author: Counter({'Silius': 5, 'Vergil': 4, 'Juvenal': 1}). Work: Counter({'Punica': 6, 'Aeneid': 4}).\n",
      "\n",
      "----------------------------------------\n",
      "----------------------------------------\n",
      "\n",
      "Running at full dimensionality.\n",
      "Testing Classifier: PassiveAggressiveClassifier(C=1.0, average=False, class_weight=None,\n",
      "                            early_stopping=False, fit_intercept=True,\n",
      "                            loss='squared_hinge', max_iter=1000,\n",
      "                            n_iter_no_change=5, n_jobs=None,\n",
      "                            random_state=RandomState(MT19937) at 0x12268D160,\n",
      "                            shuffle=True, tol=0.001, validation_fraction=0.1,\n",
      "                            verbose=0, warm_start=False)\n",
      "Refitting 10 times\n",
      "Predicting for the test chunk. Author: Counter({'Silius': 10}). Work: Counter({'Punica': 10}).\n",
      "\n",
      "----------------------------------------\n",
      "----------------------------------------\n",
      "\n",
      "Running at full dimensionality.\n",
      "Testing Classifier: PassiveAggressiveClassifier(C=1.0, average=False, class_weight=None,\n",
      "                            early_stopping=False, fit_intercept=True,\n",
      "                            loss='hinge', max_iter=1000, n_iter_no_change=5,\n",
      "                            n_jobs=None,\n",
      "                            random_state=RandomState(MT19937) at 0x12268D160,\n",
      "                            shuffle=True, tol=0.001, validation_fraction=0.1,\n",
      "                            verbose=0, warm_start=False)\n",
      "Refitting 10 times\n",
      "Predicting for the test chunk. Author: Counter({'Silius': 10}). Work: Counter({'Punica': 10}).\n",
      "\n",
      "----------------------------------------\n",
      "----------------------------------------\n",
      "\n",
      "Running at full dimensionality.\n",
      "Testing Classifier: SGDClassifier(alpha=0.0001, average=False, class_weight=None,\n",
      "              early_stopping=False, epsilon=0.1, eta0=0.0, fit_intercept=True,\n",
      "              l1_ratio=0.15, learning_rate='optimal', loss='hinge',\n",
      "              max_iter=1000, n_iter_no_change=5, n_jobs=None, penalty='l2',\n",
      "              power_t=0.5, random_state=RandomState(MT19937) at 0x12268D160,\n",
      "              shuffle=True, tol=0.001, validation_fraction=0.1, verbose=0,\n",
      "              warm_start=False)\n",
      "Refitting 10 times\n",
      "Predicting for the test chunk. Author: Counter({'Silius': 7, 'Vergil': 3}). Work: Counter({'Punica': 8, 'Aeneid': 2}).\n",
      "\n",
      "----------------------------------------\n",
      "----------------------------------------\n",
      "\n",
      "Running at full dimensionality.\n",
      "Testing Classifier: SGDClassifier(alpha=0.0001, average=False, class_weight=None,\n",
      "              early_stopping=False, epsilon=0.1, eta0=0.0, fit_intercept=True,\n",
      "              l1_ratio=0.15, learning_rate='optimal', loss='log', max_iter=1000,\n",
      "              n_iter_no_change=5, n_jobs=None, penalty='l2', power_t=0.5,\n",
      "              random_state=RandomState(MT19937) at 0x12268D160, shuffle=True,\n",
      "              tol=0.001, validation_fraction=0.1, verbose=0, warm_start=False)\n",
      "Refitting 10 times\n",
      "Predicting for the test chunk. Author: Counter({'Silius': 9, 'Vergil': 1}). Work: Counter({'Punica': 10}).\n",
      "\n",
      "----------------------------------------\n"
     ]
    }
   ],
   "source": [
    "rng = np.random.RandomState(seed=1234)\n",
    "clfs = [\n",
    "    (Perceptron(random_state=rng), None),\n",
    "    (PassiveAggressiveClassifier(loss='squared_hinge',random_state=rng), None),\n",
    "    (PassiveAggressiveClassifier(loss='hinge',random_state=rng), None),\n",
    "    (SGDClassifier(loss='hinge',random_state=rng), None),\n",
    "    (SGDClassifier(loss='log',random_state=rng), None),\n",
    "]\n",
    "\n",
    "for (c,dims) in clfs:\n",
    "    print('-'*40)\n",
    "    print()\n",
    "    classifier_test(c, corpus_C, ad_chunk, do_cv=False, use_svd=False, refits=10, fit_dist=False)\n",
    "    print()\n",
    "    print('-'*40)"
   ]
  },
  {
   "cell_type": "markdown",
   "metadata": {},
   "source": [
    "# Summary\n",
    "\n",
    "The results of the various experiments are open to interpretation, and verification or extension is welcomed. Overall, I take the results here to support the general claim that the style of the Additamentum is significantly more Vergilian than typical Silian style, consistent with interpolation.\n",
    "\n",
    "- I am not convinced that the original experiment is invalid, I am simply cautious. In any case, the experiment with `corpus_C` also suggests that the _Additamentum_ is a statistical outlier, although that might seem counterintuitive.\n",
    "- The `OneClassSVM` results show that the _Additamentum_ is an outlier from both works. However to convert that result to a 'hard' $P$-value seems difficult.\n",
    "- The `KNearestNeighbours` results seem to also indicate that the majority of small-scale nearest neighbours are from the _Aeneid_, something that random chunks of the _Punica_ almost never exhibit. This is reflected in the UMAP results (indeed UMAP attempts to make a manifold projection, which preserves local topology in preference to global topology. KNN is the closest match to this idea). This supports the claim that \"the style is unusually Vergilian\".\n",
    "- Other classifiers support the idea that the _Additamentum_ is a borderline choice between the _Aeneid_ and the _Punica_."
   ]
  }
 ],
 "metadata": {
  "kernelspec": {
   "display_name": "silius",
   "language": "python",
   "name": "silius"
  },
  "language_info": {
   "codemirror_mode": {
    "name": "ipython",
    "version": 3
   },
   "file_extension": ".py",
   "mimetype": "text/x-python",
   "name": "python",
   "nbconvert_exporter": "python",
   "pygments_lexer": "ipython3",
   "version": "3.7.6"
  }
 },
 "nbformat": 4,
 "nbformat_minor": 4
}
